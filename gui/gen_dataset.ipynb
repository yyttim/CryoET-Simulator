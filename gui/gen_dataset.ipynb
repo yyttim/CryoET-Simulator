{
 "cells": [
  {
   "cell_type": "markdown",
   "id": "c80df180-eb9c-4bf0-b522-b1f425260913",
   "metadata": {},
   "source": [
    "# Generate a synthetic dataset\n",
    "\n",
    "This notebook starts the process to generate a synthetic dataset taken already created structural models."
   ]
  },
  {
   "cell_type": "code",
   "execution_count": 7,
   "id": "0511f4c8-7c09-4dd8-8654-025267318864",
   "metadata": {
    "jupyter": {
     "source_hidden": true
    },
    "tags": [],
    "ExecuteTime": {
     "end_time": "2024-08-27T09:19:11.599064Z",
     "start_time": "2024-08-27T09:19:11.589551Z"
    }
   },
   "outputs": [],
   "source": [
    "from core.vtk_utilities import *\n",
    "from core.utilities import *\n",
    "from core.widgets_utilities import *\n",
    "from core.all_features2 import all_features2\n",
    "from core.tk_utilities import *\n",
    "import io"
   ]
  },
  {
   "cell_type": "markdown",
   "id": "4136b39a-10f0-4a0d-9f11-ca81630d8efa",
   "metadata": {},
   "source": [
    "## Select files with the structural models \n",
    "\n",
    "Select the files that contain the structural models you want to have in your synthetic dataset. At least an input model is required.\n",
    "\n",
    "We have 4 types of models and 4 buttons to adds it:\n",
    "\n",
    "- Membrane files: list of membranes files to use in the application these have **mbs** extension\n",
    "- Filament files: list of filament files to use in the application these have **hns** extension\n",
    "- Macromolecule (protein) files: list of macromolecule files to use in the application these have **pns** extension\n",
    "- Membrane protein files: list of membrane macromolecule files to use in the application these have **pms** extension\n",
    "\n",
    "  \n",
    "**Note** you can select many (an all) files in a folder with the usage of **'Ctrl'** key.\n",
    "\n",
    "Remember to select the membrane proteins that you have already **aligned** otherwise the application will not work correctly.\n"
   ]
  },
  {
   "cell_type": "code",
   "execution_count": 3,
   "id": "750f3880-e445-458c-9742-adb7e801fd8d",
   "metadata": {
    "jupyter": {
     "source_hidden": true
    },
    "tags": [],
    "ExecuteTime": {
     "end_time": "2024-08-27T08:57:03.412415Z",
     "start_time": "2024-08-27T08:57:03.388909Z"
    }
   },
   "outputs": [
    {
     "data": {
      "text/plain": "VBox(children=(Label(value='Types of structures:'), HBox(children=(Button(description='Select membrane files',…",
      "application/vnd.jupyter.widget-view+json": {
       "version_major": 2,
       "version_minor": 0,
       "model_id": "4e01d14e09734c66b4c9eb7d12ca0133"
      }
     },
     "metadata": {},
     "output_type": "display_data"
    }
   ],
   "source": [
    "selected_files_path_membrane = []\n",
    "selected_files_path_helix = []\n",
    "selected_files_path_proteins= []\n",
    "selected_files_path_mproteins = []\n",
    "MEMBRANES_LIST = []\n",
    "HELIX_LIST = []\n",
    "PROTEINS_LIST = [\n",
    "    \"/root/autodl-tmp/polnet//data/proteins/pns/4ug0.pns\",\n",
    "\t\"/root/autodl-tmp/polnet//data/proteins/pns/8b6z.pns\",\n",
    "\t\"/root/autodl-tmp/polnet//data/proteins/pns/1ubq.pns\",\n",
    "\t\"/root/autodl-tmp/polnet//data/proteins/pns/5gjr.pns\",\n",
    "\t\"/root/autodl-tmp/polnet//data/proteins/pns/1hkb.pns\",\n",
    "\t\"/root/autodl-tmp/polnet//data/proteins/pns/3bjf.pns\",\n",
    "\t\"/root/autodl-tmp/polnet//data/proteins/pns/1s3x.pns\",\n",
    "\t\"/root/autodl-tmp/polnet//data/proteins/pns/7l7j.pns\",\n",
    "\t\"/root/autodl-tmp/polnet//data/proteins/pns/2c9v.pns\",\n",
    "\t\"/root/autodl-tmp/polnet//data/proteins/pns/2f8a.pns\",\n",
    "\t\"/root/autodl-tmp/polnet//data/proteins/pns/5p21.pns\",\n",
    "\t\"/root/autodl-tmp/polnet//data/proteins/pns/6pnz.pns\",\n",
    "]\n",
    "MB_PROTEINS_LIST = []\n",
    "\n",
    "def select_files_membrane(btn):\n",
    "    global selected_files_path_membrane\n",
    "    select_files(selected_files_path_membrane, \".mbs\")\n",
    "    add_files(MEMBRANES_LIST, selected_files_path_membrane)\n",
    "    update_dropdown(MEMBRANES_LIST, dropdown_membrane)\n",
    " \n",
    "    \n",
    "def select_files_helix(btn):\n",
    "    global selected_files_path_helix\n",
    "    select_files(selected_files_path_helix, \".hns\")\n",
    "    add_files(HELIX_LIST, selected_files_path_helix)\n",
    "    update_dropdown(HELIX_LIST, dropdown_helix)\n",
    "\n",
    "\n",
    "def select_files_proteins(btn):\n",
    "    global selected_files_path_proteins\n",
    "    select_files(selected_files_path_proteins, \".pns\")\n",
    "    add_files(PROTEINS_LIST, selected_files_path_proteins)\n",
    "    update_dropdown(PROTEINS_LIST, dropdown_proteins)\n",
    "\n",
    "\n",
    "def select_file_mproteins(btn):\n",
    "    global selected_files_path_mproteins\n",
    "    select_files(selected_files_path_mproteins, \".pms\")\n",
    "    add_files(MB_PROTEINS_LIST, selected_files_path_mproteins)\n",
    "    update_dropdown(MB_PROTEINS_LIST, dropdown_mproteins)\n",
    "\n",
    "\n",
    "(select_file_button_membrane, dropdown_membrane,select_file_button_helix, dropdown_helix, select_file_button_proteins,\n",
    " dropdown_proteins, select_file_button_mproteins, dropdown_mproteins) = widgets_add_app_files()\n",
    "select_file_button_membrane.on_click(select_files_membrane)\n",
    "select_file_button_helix.on_click(select_files_helix)\n",
    "select_file_button_proteins.on_click(select_files_proteins)\n",
    "select_file_button_mproteins.on_click(select_file_mproteins)"
   ]
  },
  {
   "cell_type": "markdown",
   "id": "73791b3c-a930-4508-ab41-453570fb1ac2",
   "metadata": {},
   "source": [
    "## Sort the models\n",
    "\n",
    "Models selected can be sorted to determine the specific order to be simulated. Labels in ground truth will correspond with the order defined here starting with label '1' ('0' is reserved for background)."
   ]
  },
  {
   "cell_type": "code",
   "execution_count": 4,
   "id": "7ffb2361-e079-476c-9a05-e213de9d457d",
   "metadata": {
    "jupyter": {
     "source_hidden": true
    },
    "tags": [],
    "ExecuteTime": {
     "end_time": "2024-08-27T08:58:43.630712Z",
     "start_time": "2024-08-27T08:58:43.594548Z"
    }
   },
   "outputs": [
    {
     "data": {
      "text/plain": "VBox(children=(HBox(children=(Button(description='↑ Up selected file', style=ButtonStyle()), Button(descriptio…",
      "application/vnd.jupyter.widget-view+json": {
       "version_major": 2,
       "version_minor": 0,
       "model_id": "a8600007d6634a86b96507f8fc45de71"
      }
     },
     "metadata": {},
     "output_type": "display_data"
    }
   ],
   "source": [
    "def up_file_m(b):\n",
    "    index, options = up_file_priority(MEMBRANES_LIST,  MEMBRANES_WIDGETS[2].value)\n",
    "    if len(options)>0:\n",
    "        MEMBRANES_WIDGETS[2].options = options\n",
    "        MEMBRANES_WIDGETS[2].value = options[index]\n",
    "\n",
    "def down_file_m(b):\n",
    "    index, options = down_file_priority(MEMBRANES_LIST,  MEMBRANES_WIDGETS[2].value)\n",
    "    if len(options)>0:\n",
    "        MEMBRANES_WIDGETS[2].options = options\n",
    "        MEMBRANES_WIDGETS[2].value = options[index]\n",
    "    \n",
    "def up_file_p(b):\n",
    "    index, options = up_file_priority(PROTEINS_LIST,  PROTEINS_WIDGETS[2].value)\n",
    "    if len(options) >0:\n",
    "        PROTEINS_WIDGETS[2].options = options\n",
    "        PROTEINS_WIDGETS[2].value = options[index]\n",
    "\n",
    "def down_file_p(b):\n",
    "    index, options = down_file_priority(PROTEINS_LIST,  PROTEINS_WIDGETS[2].value)\n",
    "    if len(options) >0:\n",
    "        PROTEINS_WIDGETS[2].options = options\n",
    "        PROTEINS_WIDGETS[2].value = options[index]\n",
    "    \n",
    "def up_file_mb(b):\n",
    "    index, options = up_file_priority(MB_PROTEINS_LIST,  MB_PROTEINS_WIDGETS[2].value)\n",
    "    if len(options) > 0:\n",
    "        MB_PROTEINS_WIDGETS[2].options = options\n",
    "        MB_PROTEINS_WIDGETS[2].value = options[index]\n",
    "\n",
    "def down_file_mb(b):\n",
    "    index, options = down_file_priority(MB_PROTEINS_LIST,  MB_PROTEINS_WIDGETS[2].value)\n",
    "    if len(options) > 0:\n",
    "        MB_PROTEINS_WIDGETS[2].options = options\n",
    "        MB_PROTEINS_WIDGETS[2].value = options[index]\n",
    "    \n",
    "def up_file_h(b):\n",
    "    index, options = up_file_priority(HELIX_LIST,  HELIX_WIDGETS[2].value)\n",
    "    if len(options) > 0:\n",
    "        HELIX_WIDGETS[2].options = options\n",
    "        HELIX_WIDGETS[2].value = options[index]\n",
    "\n",
    "def down_file_h(b):\n",
    "    index, options = down_file_priority(HELIX_LIST,  HELIX_WIDGETS[2].value)\n",
    "    if len(options) > 0:\n",
    "        HELIX_WIDGETS[2].options = options\n",
    "        HELIX_WIDGETS[2].value = options[index]\n",
    "\n",
    "def update_dropdown_widget(widget, values):\n",
    "    widget.options = values\n",
    "    widget.value = values[0] if values else None\n",
    "\n",
    "def on_membranes_list_change(btn):\n",
    "    update_dropdown_widget(MEMBRANES_WIDGETS[2], MEMBRANES_LIST)\n",
    "def on_helix_list_change(btn):\n",
    "    update_dropdown_widget(HELIX_WIDGETS[2], HELIX_LIST)\n",
    "def on_proteins_list_change(btn):\n",
    "    update_dropdown_widget(PROTEINS_WIDGETS[2], PROTEINS_LIST)\n",
    "def on_mb_proteins_list_change(btn):\n",
    "    update_dropdown_widget(MB_PROTEINS_WIDGETS[2], MB_PROTEINS_LIST)\n",
    "\n",
    "\n",
    "select_file_button_membrane.on_click(on_membranes_list_change)\n",
    "select_file_button_helix.on_click(on_helix_list_change)\n",
    "select_file_button_proteins.on_click(on_proteins_list_change)\n",
    "select_file_button_mproteins.on_click(on_mb_proteins_list_change)\n",
    "\n",
    "(MEMBRANES_WIDGETS, HELIX_WIDGETS, PROTEINS_WIDGETS, MB_PROTEINS_WIDGETS)= widgets_change_order([MEMBRANES_LIST, HELIX_LIST, PROTEINS_LIST, MB_PROTEINS_LIST])\n",
    "\n",
    "MEMBRANES_WIDGETS[0].on_click(up_file_m)\n",
    "MEMBRANES_WIDGETS[1].on_click(down_file_m)\n",
    "HELIX_WIDGETS[0].on_click(up_file_h)\n",
    "HELIX_WIDGETS[1].on_click(down_file_h)\n",
    "PROTEINS_WIDGETS[0].on_click(up_file_p)\n",
    "PROTEINS_WIDGETS[1].on_click(down_file_p)\n",
    "MB_PROTEINS_WIDGETS[0].on_click(up_file_mb)\n",
    "MB_PROTEINS_WIDGETS[1].on_click(down_file_mb)"
   ]
  },
  {
   "cell_type": "markdown",
   "id": "d221b8fc-09d0-4471-9ad7-b985054c8c90",
   "metadata": {},
   "source": [
    "## Execution\n",
    "\n",
    "Once defined the list of models to be used in the simulation, select the parameters related with the simulation and image acquisition press **Exec** to run the simulation."
   ]
  },
  {
   "cell_type": "code",
   "execution_count": 8,
   "id": "d979d340-66d3-425a-9225-0e3b4e2aeaab",
   "metadata": {
    "jupyter": {
     "source_hidden": true
    },
    "tags": [],
    "ExecuteTime": {
     "end_time": "2024-08-27T09:19:16.296616Z",
     "start_time": "2024-08-27T09:19:16.225616Z"
    }
   },
   "outputs": [
    {
     "data": {
      "text/plain": "FileChooser(path='F:\\projectpython\\polnet\\gui', filename='', title='Select where you want to save the output f…",
      "application/vnd.jupyter.widget-view+json": {
       "version_major": 2,
       "version_minor": 0,
       "model_id": "6f0a4ca2784f4894bc3ed601ad688b60"
      }
     },
     "metadata": {},
     "output_type": "display_data"
    },
    {
     "data": {
      "text/plain": "IntText(value=1, description='N_TOMOS (number of tomograms in the dataset):', layout=Layout(width='380px'), st…",
      "application/vnd.jupyter.widget-view+json": {
       "version_major": 2,
       "version_minor": 0,
       "model_id": "38ac3d4793ae4580b73d924ac25bb254"
      }
     },
     "metadata": {},
     "output_type": "display_data"
    },
    {
     "data": {
      "text/plain": "HBox(children=(BoundedIntText(value=400, description='VOI_SHAPE (Tomogram shape, voxels):', layout=Layout(widt…",
      "application/vnd.jupyter.widget-view+json": {
       "version_major": 2,
       "version_minor": 0,
       "model_id": "1d4fd84869bc49a689e2474d2905bf70"
      }
     },
     "metadata": {},
     "output_type": "display_data"
    },
    {
     "data": {
      "text/plain": "HBox(children=(BoundedIntText(value=4, description='VOI_OFF (Empty halo, voxels):', layout=Layout(width='250px…",
      "application/vnd.jupyter.widget-view+json": {
       "version_major": 2,
       "version_minor": 0,
       "model_id": "f038b0cb9f4d486095423bc753e59619"
      }
     },
     "metadata": {},
     "output_type": "display_data"
    },
    {
     "data": {
      "text/plain": "BoundedFloatText(value=10.0, description='VOI_VOXEL_SIZE (Voxel size, voxels/A):', layout=Layout(width='350px'…",
      "application/vnd.jupyter.widget-view+json": {
       "version_major": 2,
       "version_minor": 0,
       "model_id": "c4f73747c1484736a6549ad1212d5315"
      }
     },
     "metadata": {},
     "output_type": "display_data"
    },
    {
     "data": {
      "text/plain": "BoundedFloatText(value=20.0, description='MMER_TRIES (Maximun number of tries for monomers):', layout=Layout(w…",
      "application/vnd.jupyter.widget-view+json": {
       "version_major": 2,
       "version_minor": 0,
       "model_id": "12b1d75640954245b5aacd7924ea2f2e"
      }
     },
     "metadata": {},
     "output_type": "display_data"
    },
    {
     "data": {
      "text/plain": "BoundedFloatText(value=100.0, description='PMER_TRIES (Maximun number of tries for polymers):', layout=Layout(…",
      "application/vnd.jupyter.widget-view+json": {
       "version_major": 2,
       "version_minor": 0,
       "model_id": "4a2d0ee7d2794b80985e96822083adbd"
      }
     },
     "metadata": {},
     "output_type": "display_data"
    },
    {
     "data": {
      "text/plain": "BoundedFloatText(value=0.9, description='SURF_DEC (Decimation for surface respresentation, [0, 1]):', layout=L…",
      "application/vnd.jupyter.widget-view+json": {
       "version_major": 2,
       "version_minor": 0,
       "model_id": "1ffbf02cf686470a9df77e59a67bf2f8"
      }
     },
     "metadata": {},
     "output_type": "display_data"
    },
    {
     "data": {
      "text/plain": "BoundedFloatText(value=1.0, description='MALIGN_MN (Micrograph miss-alginment mean, pixels):', layout=Layout(w…",
      "application/vnd.jupyter.widget-view+json": {
       "version_major": 2,
       "version_minor": 0,
       "model_id": "f3f41eccfc124d6885b1ef90b79fd4dc"
      }
     },
     "metadata": {},
     "output_type": "display_data"
    },
    {
     "data": {
      "text/plain": "BoundedFloatText(value=1.5, description='MALIGN_MX (Micrograph miss-alginment max, pixels):', layout=Layout(wi…",
      "application/vnd.jupyter.widget-view+json": {
       "version_major": 2,
       "version_minor": 0,
       "model_id": "49a399691399409f942f215602384a8f"
      }
     },
     "metadata": {},
     "output_type": "display_data"
    },
    {
     "data": {
      "text/plain": "BoundedFloatText(value=0.2, description='MALIGN_SG (Micrograph miss-alginment sigma, pixels):', layout=Layout(…",
      "application/vnd.jupyter.widget-view+json": {
       "version_major": 2,
       "version_minor": 0,
       "model_id": "2b9c9e698a004bf79d864bffc0306eea"
      }
     },
     "metadata": {},
     "output_type": "display_data"
    },
    {
     "data": {
      "text/plain": "HBox(children=(BoundedFloatText(value=1.0, description='DETECTOR_SNR (Micrographs SNR range):', layout=Layout(…",
      "application/vnd.jupyter.widget-view+json": {
       "version_major": 2,
       "version_minor": 0,
       "model_id": "db60f132a6db4653a69231375c16da31"
      }
     },
     "metadata": {},
     "output_type": "display_data"
    },
    {
     "data": {
      "text/plain": "HBox(children=(BoundedIntText(value=-60, description='TILT_ANGS (Degrees; start, end, step):', layout=Layout(w…",
      "application/vnd.jupyter.widget-view+json": {
       "version_major": 2,
       "version_minor": 0,
       "model_id": "b2ecc33dff934932a2b929d6d2b2a3fd"
      }
     },
     "metadata": {},
     "output_type": "display_data"
    },
    {
     "data": {
      "text/plain": "Button(description='Exec', style=ButtonStyle())",
      "application/vnd.jupyter.widget-view+json": {
       "version_major": 2,
       "version_minor": 0,
       "model_id": "49938a96cdaf4722a815d7932cfb3590"
      }
     },
     "metadata": {},
     "output_type": "display_data"
    },
    {
     "data": {
      "text/plain": "Output()",
      "application/vnd.jupyter.widget-view+json": {
       "version_major": 2,
       "version_minor": 0,
       "model_id": "ac11b488557e40bca0c3264fed52e196"
      }
     },
     "metadata": {},
     "output_type": "display_data"
    }
   ],
   "source": [
    "DEF_PATH = os.path.realpath(os.getcwd() + '/../data') +  '/../data_generated/polnet_test'\n",
    "def generate_voi_shape():\n",
    "    return (voi_shape1.value, voi_shape2.value, voi_shape3.value)\n",
    "\n",
    "def generate_tilts_angs():\n",
    "    return range(widget_min.value, widget_max.value, widget_paso.value)\n",
    "\n",
    "def generate_voi_off():\n",
    "    return ((voi_off_widget_1.value, voi_off_widget_2.value),\n",
    "            (voi_off_widget_3.value, voi_off_widget_4.value),\n",
    "            (voi_off_widget_5.value, voi_off_widget_6.value))\n",
    "\n",
    "\n",
    "\n",
    "def exec_app(btn):\n",
    "    with output_widget:\n",
    "        path = check_dir(widget_out_dir.selected_path, DEF_PATH)\n",
    "        if MEMBRANES_LIST or HELIX_LIST or PROTEINS_LIST or MB_PROTEINS_LIST:\n",
    "            all_features2(ntomos_widget.value, generate_voi_shape(),\n",
    "                          path, generate_voi_off(), voi_size_widget.value,\n",
    "                          mmer_tries_widget.value, pmer_tries_widget.value,\n",
    "                          MEMBRANES_LIST, HELIX_LIST, PROTEINS_LIST, MB_PROTEINS_LIST,\n",
    "                          surf_dec_widget.value,\n",
    "                          generate_tilts_angs(), [detector_snr_widget_low.value, detector_snr_widget_high.value],\n",
    "                          malign_mn_widget.value, malign_mx_widget.value, malign_sg_widget.value)\n",
    "        else:\n",
    "            window_exec_app_failed()\n",
    "\n",
    "\n",
    "(widget_out_dir, ntomos_widget, voi_shape1, voi_shape2, voi_shape3, voi_off_widget_1, voi_off_widget_2, voi_off_widget_3, voi_off_widget_4, \n",
    "voi_off_widget_5, voi_off_widget_6,voi_size_widget, mmer_tries_widget, \n",
    "pmer_tries_widget, surf_dec_widget, malign_mn_widget, malign_mx_widget, malign_sg_widget, \n",
    "detector_snr_widget_low, detector_snr_widget_high, widget_min, widget_max, widget_paso, exec_button) = widgets_exec_app()\n",
    "\n",
    "output_widget = widgets.Output()\n",
    "\n",
    "exec_button.on_click(exec_app)\n",
    "display(output_widget)"
   ]
  },
  {
   "cell_type": "code",
   "execution_count": null,
   "id": "45c6a1d0-ac81-470b-92a5-65b914b2dc22",
   "metadata": {
    "jupyter": {
     "source_hidden": true
    }
   },
   "outputs": [],
   "source": []
  }
 ],
 "metadata": {
  "kernelspec": {
   "display_name": "Python 3 (ipykernel)",
   "language": "python",
   "name": "python3"
  },
  "language_info": {
   "codemirror_mode": {
    "name": "ipython",
    "version": 3
   },
   "file_extension": ".py",
   "mimetype": "text/x-python",
   "name": "python",
   "nbconvert_exporter": "python",
   "pygments_lexer": "ipython3",
   "version": "3.12.2"
  }
 },
 "nbformat": 4,
 "nbformat_minor": 5
}
