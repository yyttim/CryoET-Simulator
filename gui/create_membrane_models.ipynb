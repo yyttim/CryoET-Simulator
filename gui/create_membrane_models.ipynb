{
 "cells": [
  {
   "cell_type": "markdown",
   "id": "fe450480-a9a2-46e8-8522-ba919352b889",
   "metadata": {},
   "source": [
    "## Create membrane models\n",
    "\n",
    "This notebook helps to generate the configuration files **.mbs** for membrane structural models.\n"
   ]
  },
  {
   "cell_type": "code",
   "execution_count": 2,
   "id": "cd6e2675-cf1a-42b6-b895-fe3349a6af76",
   "metadata": {
    "jupyter": {
     "source_hidden": true
    },
    "ExecuteTime": {
     "end_time": "2024-08-27T08:43:10.480140Z",
     "start_time": "2024-08-27T08:43:05.968576Z"
    }
   },
   "outputs": [],
   "source": [
    "from core.vtk_utilities import *\n",
    "from core.utilities import *\n",
    "from core.widgets_utilities import *"
   ]
  },
  {
   "cell_type": "markdown",
   "id": "690fbedb-9a2c-4ae5-8195-458a93b87af7",
   "metadata": {},
   "source": [
    "Input parameters to be introduced\n",
    "\n",
    "| Membrane Variable    | DESCRIPTION                                  | DATA TYPE                      |\n",
    "|:------------------|:--------------------------------------------:|:-------------------------------|\n",
    "| MB_TYPE           | membrane geometry                            | 'Sphere', 'Ellipse' or 'Torus' |\n",
    "| MB_OCC            | O                                            | Range [low, min] in percentages|\n",
    "| MB_THICK_RG       | t                                            | Range in ˚A                    |\n",
    "| MB_LAYER_S_RG     | σl                                           | Range in ˚A                    |\n",
    "| MB_MAX_ECC        | max ϵ                                        | Positive real value            |\n",
    "| MB_OVER_TOL       | overlapping tolerance percentage             | Percentage                     |\n",
    "| MB_MIN_RAD        | min r                                        | Positive real value in ˚A      |\n",
    "| MB_DEN_CF_RG      | density factor                               | Range of reals between 0 and 1 |\n",
    "\n",
    "\n",
    "Select value for each parameter. If you are not sure about the value to set, keep the default one. \n",
    "\n",
    "Select path and name for the file.\n",
    "\n",
    "Finally click on the **Save button** and automatically the file will be generated."
   ]
  },
  {
   "cell_type": "code",
   "execution_count": 3,
   "id": "4c6dc2c1-8146-4025-b4a7-6b6529a619c9",
   "metadata": {
    "jupyter": {
     "source_hidden": true
    },
    "ExecuteTime": {
     "end_time": "2024-08-27T08:43:13.411907Z",
     "start_time": "2024-08-27T08:43:13.353903Z"
    }
   },
   "outputs": [
    {
     "data": {
      "text/plain": "VBox(children=(HBox(children=(Dropdown(description='MB_TYPE:', options=('sphere', 'ellipse', 'torus'), style=D…",
      "application/vnd.jupyter.widget-view+json": {
       "version_major": 2,
       "version_minor": 0,
       "model_id": "7971444b3d8c4bd4b2a0341d2ed23409"
      }
     },
     "metadata": {},
     "output_type": "display_data"
    },
    {
     "data": {
      "text/plain": "FileChooser(path='F:\\projectpython\\polnet\\gui', filename='', title='Select destination path', show_hidden=Fals…",
      "application/vnd.jupyter.widget-view+json": {
       "version_major": 2,
       "version_minor": 0,
       "model_id": "4487ee969ef5404b9485baaa597f9e4a"
      }
     },
     "metadata": {},
     "output_type": "display_data"
    },
    {
     "data": {
      "text/plain": "Button(description='Save', style=ButtonStyle())",
      "application/vnd.jupyter.widget-view+json": {
       "version_major": 2,
       "version_minor": 0,
       "model_id": "dd3ddb6143e84d9bb2a7654cb16ca864"
      }
     },
     "metadata": {},
     "output_type": "display_data"
    }
   ],
   "source": [
    "def generate_non_uniform_values(mean, stddev, size):\n",
    "    \"\"\"\n",
    "    生成对数正态分布的非均匀值\n",
    "    :param mean: 对数正态分布的均值\n",
    "    :param stddev: 对数正态分布的标准差\n",
    "    :param size: 生成值的数量\n",
    "    :return: 生成的非均匀分布值\n",
    "    \"\"\"\n",
    "    return np.random.lognormal(mean, stddev, size)\n",
    "\n",
    "DEFAULT_PATH = \"../data/in_mbs/\"\n",
    "\n",
    "def write_mbs(btn):\n",
    "    path = check_dir(file_destination_widget.value, DEFAULT_PATH)\n",
    "    # 使用对数正态分布生成的非均匀值代替控件值\n",
    "    mb_type_value = generate_non_uniform_values(0, 0.5, 1)[0]\n",
    "    mb_occ_value = generate_non_uniform_values(-5, 1, 2)\n",
    "    mb_thick_rg_value = generate_non_uniform_values(0.5, 0.5, 2)\n",
    "    mb_layer_s_rg_value = generate_non_uniform_values(0.5, 0.5, 2)\n",
    "    mb_max_ecc_value = generate_non_uniform_values(0, 0.1, 1)[0]\n",
    "    mb_over_tol_value = generate_non_uniform_values(-10, 1, 1)[0]\n",
    "    mb_min_rad_value = generate_non_uniform_values(0, 1, 1)[0]\n",
    "    mb_den_cf_rg_value = generate_non_uniform_values(0.3, 0.1, 2)\n",
    "    \n",
    "    write_membrane(mb_type_value, mb_occ_value, mb_thick_rg_value, mb_layer_s_rg_value, \n",
    "                        mb_max_ecc_value, mb_over_tol_value, mb_min_rad_value, mb_den_cf_rg_value, path)\n",
    "\n",
    "(mb_type_widget, mb_occ_widget, mb_thick_rg_widget, mb_layer_s_rg_widget, mb_max_ecc_widget,\n",
    " mb_over_tol_widget, mb_min_rad_widget, mb_den_cf_rg_widget, file_destination_widget, save_button) = widgets_membrane_params()\n",
    "save_button.on_click(write_mbs)"
   ]
  },
  {
   "cell_type": "code",
   "execution_count": null,
   "id": "be4ff44d-6109-4c01-90d9-21f00a4d3f7e",
   "metadata": {},
   "outputs": [],
   "source": []
  }
 ],
 "metadata": {
  "kernelspec": {
   "display_name": "Python 3 (ipykernel)",
   "language": "python",
   "name": "python3"
  },
  "language_info": {
   "codemirror_mode": {
    "name": "ipython",
    "version": 3
   },
   "file_extension": ".py",
   "mimetype": "text/x-python",
   "name": "python",
   "nbconvert_exporter": "python",
   "pygments_lexer": "ipython3",
   "version": "3.12.0"
  }
 },
 "nbformat": 4,
 "nbformat_minor": 5
}
